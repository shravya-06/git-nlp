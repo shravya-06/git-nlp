{
  "nbformat": 4,
  "nbformat_minor": 0,
  "metadata": {
    "colab": {
      "provenance": [],
      "authorship_tag": "ABX9TyMJ4NlXY1XX2G0rlySLi1ob",
      "include_colab_link": true
    },
    "kernelspec": {
      "name": "python3",
      "display_name": "Python 3"
    },
    "language_info": {
      "name": "python"
    }
  },
  "cells": [
    {
      "cell_type": "markdown",
      "metadata": {
        "id": "view-in-github",
        "colab_type": "text"
      },
      "source": [
        "<a href=\"https://colab.research.google.com/github/shravya-06/git-nlp/blob/main/day38.ipynb\" target=\"_parent\"><img src=\"https://colab.research.google.com/assets/colab-badge.svg\" alt=\"Open In Colab\"/></a>"
      ]
    },
    {
      "cell_type": "code",
      "execution_count": 3,
      "metadata": {
        "colab": {
          "base_uri": "https://localhost:8080/"
        },
        "id": "at9T1zS9KZRC",
        "outputId": "76df0e65-20dd-4115-97c8-f6055d548a11"
      },
      "outputs": [
        {
          "output_type": "stream",
          "name": "stdout",
          "text": [
            "Predicted Categories: ['Normal' 'Normal']\n"
          ]
        }
      ],
      "source": [
        "from sklearn.tree import DecisionTreeClassifier\n",
        "from sklearn.feature_extraction.text import TfidfVectorizer\n",
        "from sklearn.model_selection import train_test_split\n",
        "\n",
        "# Example text data and categories\n",
        "text_data = [\"Spam messages are annoying\", \"I won a lottery\", \"This is a normal message\",\n",
        "             \"Claim your prize now\", \"Meeting at 3 PM\", \"Buy our product\"]\n",
        "categories = [\"Spam\", \"Spam\", \"Normal\", \"Spam\", \"Normal\", \"Spam\"]\n",
        "\n",
        "# Create a TfidfVectorizer object\n",
        "tfidf_vectorizer = TfidfVectorizer()\n",
        "\n",
        "# Fit the vectorizer to the text data\n",
        "tfidf_vectorizer.fit(text_data)\n",
        "\n",
        "# Transform the text data into a TF-IDF representation\n",
        "text_tfidf = tfidf_vectorizer.transform(text_data)\n",
        "\n",
        "# Split data into training and testing sets\n",
        "X_train, X_test, y_train, y_test = train_test_split(text_tfidf, categories, test_size=0.2, random_state=42)\n",
        "\n",
        "# Create a DecisionTreeClassifier object\n",
        "classifier = DecisionTreeClassifier()\n",
        "\n",
        "# Train the classifier using the TF-IDF representation and categories\n",
        "classifier.fit(X_train, y_train)\n",
        "\n",
        "# Predict the category of the test data\n",
        "predicted_categories = classifier.predict(X_test)\n",
        "\n",
        "# Print the predicted categories\n",
        "#To see the output, run the code.\n",
        "print(\"Predicted Categories:\", predicted_categories)"
      ]
    },
    {
      "cell_type": "code",
      "source": [],
      "metadata": {
        "id": "UM7t8l6TO3zd"
      },
      "execution_count": null,
      "outputs": []
    },
    {
      "cell_type": "code",
      "source": [],
      "metadata": {
        "id": "GjtpNxv_LBy6"
      },
      "execution_count": null,
      "outputs": []
    },
    {
      "cell_type": "code",
      "source": [],
      "metadata": {
        "id": "GCJ8NfWnTo4R"
      },
      "execution_count": null,
      "outputs": []
    },
    {
      "cell_type": "code",
      "source": [],
      "metadata": {
        "id": "-H4CUDEeTXIY"
      },
      "execution_count": null,
      "outputs": []
    },
    {
      "cell_type": "code",
      "source": [],
      "metadata": {
        "id": "nnQO07yELB1N"
      },
      "execution_count": null,
      "outputs": []
    },
    {
      "cell_type": "code",
      "source": [],
      "metadata": {
        "id": "sd3ZnLkrLB3e"
      },
      "execution_count": null,
      "outputs": []
    },
    {
      "cell_type": "code",
      "source": [],
      "metadata": {
        "id": "Tk-jFgV6LB6-"
      },
      "execution_count": null,
      "outputs": []
    }
  ]
}
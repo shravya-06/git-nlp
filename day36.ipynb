{
  "nbformat": 4,
  "nbformat_minor": 0,
  "metadata": {
    "colab": {
      "provenance": [],
      "authorship_tag": "ABX9TyOB4YsK2jQtaBTrm/1b1XQO",
      "include_colab_link": true
    },
    "kernelspec": {
      "name": "python3",
      "display_name": "Python 3"
    },
    "language_info": {
      "name": "python"
    }
  },
  "cells": [
    {
      "cell_type": "markdown",
      "metadata": {
        "id": "view-in-github",
        "colab_type": "text"
      },
      "source": [
        "<a href=\"https://colab.research.google.com/github/shravya-06/git-nlp/blob/main/day36.ipynb\" target=\"_parent\"><img src=\"https://colab.research.google.com/assets/colab-badge.svg\" alt=\"Open In Colab\"/></a>"
      ]
    },
    {
      "cell_type": "code",
      "execution_count": 2,
      "metadata": {
        "colab": {
          "base_uri": "https://localhost:8080/"
        },
        "id": "at9T1zS9KZRC",
        "outputId": "e45b125d-48ad-4b8f-f3b5-a81cfcdabab8"
      },
      "outputs": [
        {
          "output_type": "stream",
          "name": "stdout",
          "text": [
            "Predicted Category: Programming\n"
          ]
        }
      ],
      "source": [
        "from sklearn.naive_bayes import MultinomialNB\n",
        "from sklearn.feature_extraction.text import CountVectorizer\n",
        "\n",
        "# Sample text data and categories\n",
        "text_data = [\"I love programming\", \"Python is great\", \"Machine learning is amazing\"]\n",
        "categories = [\"Programming\", \"Programming\", \"Machine Learning\"]\n",
        "\n",
        "# Create a CountVectorizer object\n",
        "vectorizer = CountVectorizer()\n",
        "\n",
        "# Fit the vectorizer to the text data\n",
        "vectorizer.fit(text_data)\n",
        "\n",
        "# Transform the text data into a BoW representation\n",
        "text_bow = vectorizer.transform(text_data)\n",
        "\n",
        "# Create a MultinomialNB classifier\n",
        "classifier = MultinomialNB()\n",
        "\n",
        "# Train the classifier using the BoW representation and categories\n",
        "classifier.fit(text_bow, categories)\n",
        "\n",
        "# New text to classify\n",
        "new_text = [\"I love Python\"]\n",
        "\n",
        "# Transform the new text into a BoW representation\n",
        "new_text_bow = vectorizer.transform(new_text)\n",
        "\n",
        "# Predict the category of the new text\n",
        "predicted_category = classifier.predict(new_text_bow)\n",
        "\n",
        "# Print the predicted category\n",
        "#To see the output, run the code.\n",
        "print(\"Predicted Category:\", predicted_category[0])\n",
        "\n"
      ]
    },
    {
      "cell_type": "code",
      "source": [],
      "metadata": {
        "id": "UM7t8l6TO3zd"
      },
      "execution_count": null,
      "outputs": []
    },
    {
      "cell_type": "code",
      "source": [],
      "metadata": {
        "id": "GjtpNxv_LBy6"
      },
      "execution_count": null,
      "outputs": []
    },
    {
      "cell_type": "code",
      "source": [],
      "metadata": {
        "id": "GCJ8NfWnTo4R"
      },
      "execution_count": null,
      "outputs": []
    },
    {
      "cell_type": "code",
      "source": [],
      "metadata": {
        "id": "-H4CUDEeTXIY"
      },
      "execution_count": null,
      "outputs": []
    },
    {
      "cell_type": "code",
      "source": [],
      "metadata": {
        "id": "nnQO07yELB1N"
      },
      "execution_count": null,
      "outputs": []
    },
    {
      "cell_type": "code",
      "source": [],
      "metadata": {
        "id": "sd3ZnLkrLB3e"
      },
      "execution_count": null,
      "outputs": []
    },
    {
      "cell_type": "code",
      "source": [],
      "metadata": {
        "id": "Tk-jFgV6LB6-"
      },
      "execution_count": null,
      "outputs": []
    }
  ]
}
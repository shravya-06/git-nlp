{
  "nbformat": 4,
  "nbformat_minor": 0,
  "metadata": {
    "colab": {
      "provenance": [],
      "authorship_tag": "ABX9TyOBLx2939LZUuMpi+zMzjGq",
      "include_colab_link": true
    },
    "kernelspec": {
      "name": "python3",
      "display_name": "Python 3"
    },
    "language_info": {
      "name": "python"
    }
  },
  "cells": [
    {
      "cell_type": "markdown",
      "metadata": {
        "id": "view-in-github",
        "colab_type": "text"
      },
      "source": [
        "<a href=\"https://colab.research.google.com/github/shravya-06/git-nlp/blob/main/day40.ipynb\" target=\"_parent\"><img src=\"https://colab.research.google.com/assets/colab-badge.svg\" alt=\"Open In Colab\"/></a>"
      ]
    },
    {
      "cell_type": "code",
      "execution_count": 4,
      "metadata": {
        "colab": {
          "base_uri": "https://localhost:8080/"
        },
        "id": "at9T1zS9KZRC",
        "outputId": "e7f05e37-4ef3-4db7-8233-26a689ef2d7f"
      },
      "outputs": [
        {
          "output_type": "stream",
          "name": "stdout",
          "text": [
            "Predicted Category: Spam\n"
          ]
        }
      ],
      "source": [
        "from sklearn.ensemble import RandomForestClassifier\n",
        "from sklearn.feature_extraction.text import TfidfVectorizer\n",
        "from sklearn.model_selection import train_test_split\n",
        "\n",
        "# Example text data and categories\n",
        "text_data = [\"Buy now and win a prize\", \"Normal email content\", \"Congratulations, you won!\",\n",
        "             \"Limited time offer, claim now\", \"Important meeting reminder\", \"Get your free gift\"]\n",
        "categories = [\"Spam\", \"Normal\", \"Spam\", \"Spam\", \"Normal\", \"Spam\"]\n",
        "\n",
        "# Create a TfidfVectorizer object\n",
        "tfidf_vectorizer = TfidfVectorizer()\n",
        "\n",
        "# Fit the vectorizer to the text data\n",
        "tfidf_vectorizer.fit(text_data)\n",
        "\n",
        "# Transform the text data into a TF-IDF representation\n",
        "text_tfidf = tfidf_vectorizer.transform(text_data)\n",
        "\n",
        "# Split data into training and testing sets\n",
        "X_train, X_test, y_train, y_test = train_test_split(text_tfidf, categories, test_size=0.2, random_state=42)\n",
        "\n",
        "# Create a RandomForestClassifier object\n",
        "classifier = RandomForestClassifier(n_estimators=100, random_state=42)  # You can adjust n_estimators\n",
        "\n",
        "# Train the classifier using the TF-IDF representation and categories\n",
        "classifier.fit(X_train, y_train)\n",
        "\n",
        "# New text for prediction\n",
        "new_text = [\"Click here to unsubscribe\"]\n",
        "\n",
        "# Transform the new text into TF-IDF representation\n",
        "new_text_tfidf = tfidf_vectorizer.transform(new_text)\n",
        "\n",
        "# Predict the category of the new text\n",
        "predicted_category = classifier.predict(new_text_tfidf)\n",
        "\n",
        "# Print the predicted category\n",
        "#To see the output, run the code.\n",
        "print(\"Predicted Category:\", predicted_category[0])"
      ]
    },
    {
      "cell_type": "code",
      "source": [],
      "metadata": {
        "id": "UM7t8l6TO3zd"
      },
      "execution_count": null,
      "outputs": []
    },
    {
      "cell_type": "code",
      "source": [],
      "metadata": {
        "id": "GjtpNxv_LBy6"
      },
      "execution_count": null,
      "outputs": []
    },
    {
      "cell_type": "code",
      "source": [],
      "metadata": {
        "id": "GCJ8NfWnTo4R"
      },
      "execution_count": null,
      "outputs": []
    },
    {
      "cell_type": "code",
      "source": [],
      "metadata": {
        "id": "-H4CUDEeTXIY"
      },
      "execution_count": null,
      "outputs": []
    },
    {
      "cell_type": "code",
      "source": [],
      "metadata": {
        "id": "nnQO07yELB1N"
      },
      "execution_count": null,
      "outputs": []
    },
    {
      "cell_type": "code",
      "source": [],
      "metadata": {
        "id": "sd3ZnLkrLB3e"
      },
      "execution_count": null,
      "outputs": []
    },
    {
      "cell_type": "code",
      "source": [],
      "metadata": {
        "id": "Tk-jFgV6LB6-"
      },
      "execution_count": null,
      "outputs": []
    }
  ]
}